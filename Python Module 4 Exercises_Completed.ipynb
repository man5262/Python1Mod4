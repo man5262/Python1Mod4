{
 "cells": [
  {
   "cell_type": "markdown",
   "metadata": {},
   "source": [
    "Exercise 1: Make an empty list and call it names"
   ]
  },
  {
   "cell_type": "code",
   "execution_count": 1,
   "metadata": {},
   "outputs": [],
   "source": [
    "names = []"
   ]
  },
  {
   "cell_type": "markdown",
   "metadata": {},
   "source": [
    "Exercise 2: Make names filled with names of 5 people: Hannah, Victor, Sam, James, Sarah"
   ]
  },
  {
   "cell_type": "code",
   "execution_count": 1,
   "metadata": {},
   "outputs": [
    {
     "name": "stdout",
     "output_type": "stream",
     "text": [
      "['Hannah', 'Victor', 'Sam', 'James', 'Sarah']\n"
     ]
    }
   ],
   "source": [
    "names = []\n",
    "names.append(\"Hannah\")\n",
    "names.append(\"Victor\")\n",
    "names.append(\"Sam\")\n",
    "names.append(\"James\")\n",
    "names.append(\"Sarah\")\n",
    "print (names)"
   ]
  },
  {
   "cell_type": "code",
   "execution_count": null,
   "metadata": {},
   "outputs": [],
   "source": []
  },
  {
   "cell_type": "markdown",
   "metadata": {},
   "source": [
    "Exercise 3: Make names sort in reverse. Print out the list using a for-loop"
   ]
  },
  {
   "cell_type": "code",
   "execution_count": 12,
   "metadata": {},
   "outputs": [
    {
     "name": "stdout",
     "output_type": "stream",
     "text": [
      "Original list is: ['Hannah', 'Victor', 'Sam', 'James', 'Sarah']\n",
      "Sorted list is: ['Victor', 'Sarah', 'Sam', 'James', 'Hannah']\n",
      "\n",
      "Sorted list contains the following items:\n",
      "Victor\n",
      "Sarah\n",
      "Sam\n",
      "James\n",
      "Hannah\n"
     ]
    }
   ],
   "source": [
    "names = [\"Hannah\", \"Victor\", \"Sam\", \"James\", \"Sarah\"]\n",
    "print (f\"Original list is: {names}\")\n",
    "newnames = sorted(names, reverse = True)\n",
    "print (f\"Sorted list is: {newnames}\")\n",
    "print(\"\\nSorted list contains the following items:\")\n",
    "for name in newnames:\n",
    "    print (name)"
   ]
  },
  {
   "cell_type": "markdown",
   "metadata": {},
   "source": [
    "Exercise 4: Make names sorted alphabetically. Print out the list using while loop"
   ]
  },
  {
   "cell_type": "code",
   "execution_count": 14,
   "metadata": {},
   "outputs": [
    {
     "name": "stdout",
     "output_type": "stream",
     "text": [
      "Original list is: ['Hannah', 'Victor', 'Sam', 'James', 'Sarah']\n",
      "\n",
      "Sorted list contains the following items:\n",
      "Hannah\n",
      "James\n",
      "Sam\n",
      "Sarah\n",
      "Victor\n"
     ]
    }
   ],
   "source": [
    "names = [\"Hannah\", \"Victor\", \"Sam\", \"James\", \"Sarah\"]\n",
    "print (f\"Original list is: {names}\")\n",
    "number_of_list_items = len(names)\n",
    "newnames = sorted(names)\n",
    "count = 0\n",
    "print(\"\\nSorted list contains the following items:\")\n",
    "while count < number_of_list_items:\n",
    "    print(newnames[count])\n",
    "    count += 1"
   ]
  },
  {
   "cell_type": "markdown",
   "metadata": {},
   "source": [
    "Exercise 5: Pull out the fourth item from names and print it out"
   ]
  },
  {
   "cell_type": "code",
   "execution_count": 19,
   "metadata": {},
   "outputs": [
    {
     "name": "stdout",
     "output_type": "stream",
     "text": [
      "Original list is: ['Hannah', 'Victor', 'Sam', 'James', 'Sarah']\n",
      "The 4th item in the names list is: 'James'\n",
      "Final list is: ['Hannah', 'Victor', 'Sam', 'Sarah']\n"
     ]
    }
   ],
   "source": [
    "names = [\"Hannah\", \"Victor\", \"Sam\", \"James\", \"Sarah\"]\n",
    "print (f\"Original list is: {names}\")\n",
    "name4 = names.pop(3)\n",
    "print (f\"The 4th item in the names list is: '{name4}'\")\n",
    "print (f\"Final list is: {names}\")"
   ]
  },
  {
   "cell_type": "markdown",
   "metadata": {},
   "source": [
    "Exercise 6: Pull out the first item from names and print it out"
   ]
  },
  {
   "cell_type": "code",
   "execution_count": 18,
   "metadata": {},
   "outputs": [
    {
     "name": "stdout",
     "output_type": "stream",
     "text": [
      "Original list is: ['Hannah', 'Victor', 'Sam', 'James', 'Sarah']\n",
      "The 1st item in the names list is: 'Hannah'\n",
      "Final list is: ['Victor', 'Sam', 'James', 'Sarah']\n"
     ]
    }
   ],
   "source": [
    "names = [\"Hannah\", \"Victor\", \"Sam\", \"James\", \"Sarah\"]\n",
    "print (f\"Original list is: {names}\")\n",
    "name1 = names.pop(0)\n",
    "print (f\"The 1st item in the names list is: '{name1}'\")\n",
    "print (f\"Final list is: {names}\")"
   ]
  },
  {
   "cell_type": "markdown",
   "metadata": {},
   "source": [
    "Exercise 7: Make a variable named fruits that contains a string \"Apples, Oranges, Bananas, Pineapples, Persimmons, Dragonfruit\" and make it into a list splitting it by the commas."
   ]
  },
  {
   "cell_type": "code",
   "execution_count": 20,
   "metadata": {},
   "outputs": [
    {
     "name": "stdout",
     "output_type": "stream",
     "text": [
      "Original string is: Apples, Oranges, Bananas, Pineapples, Persimmons, Dragonfruit\n",
      "The final list is: ['Apples', 'Oranges', 'Bananas', 'Pineapples', 'Persimmons', 'Dragonfruit']\n"
     ]
    }
   ],
   "source": [
    "fruits = \"Apples, Oranges, Bananas, Pineapples, Persimmons, Dragonfruit\"\n",
    "print (f\"Original string is: {fruits}\")\n",
    "fruit_list = fruits.split(', ')\n",
    "print (f\"The final list is: {fruit_list}\")"
   ]
  },
  {
   "cell_type": "markdown",
   "metadata": {},
   "source": [
    "Exercise 8: Create a list of the first 10 square numbers. i.e. the square of each integer from 1 to 10. "
   ]
  },
  {
   "cell_type": "code",
   "execution_count": 22,
   "metadata": {},
   "outputs": [
    {
     "name": "stdout",
     "output_type": "stream",
     "text": [
      "The square number of 1 is 1\n",
      "The square number of 2 is 4\n",
      "The square number of 3 is 9\n",
      "The square number of 4 is 16\n",
      "The square number of 5 is 25\n",
      "The square number of 6 is 36\n",
      "The square number of 7 is 49\n",
      "The square number of 8 is 64\n",
      "The square number of 9 is 81\n",
      "The square number of 10 is 100\n"
     ]
    }
   ],
   "source": [
    "for num in range(1, 11):\n",
    "    print(f\"The square number of {num} is {num**2}\")"
   ]
  },
  {
   "cell_type": "markdown",
   "metadata": {},
   "source": [
    "Exercise 9: Create a multiplication table from 1 to 10"
   ]
  },
  {
   "cell_type": "code",
   "execution_count": 27,
   "metadata": {},
   "outputs": [
    {
     "name": "stdout",
     "output_type": "stream",
     "text": [
      "1 X 1 = 1\n",
      "1 X 2 = 2\n",
      "1 X 3 = 3\n",
      "1 X 4 = 4\n",
      "1 X 5 = 5\n",
      "1 X 6 = 6\n",
      "1 X 7 = 7\n",
      "1 X 8 = 8\n",
      "1 X 9 = 9\n",
      "1 X 10 = 10\n",
      " \n",
      "2 X 1 = 2\n",
      "2 X 2 = 4\n",
      "2 X 3 = 6\n",
      "2 X 4 = 8\n",
      "2 X 5 = 10\n",
      "2 X 6 = 12\n",
      "2 X 7 = 14\n",
      "2 X 8 = 16\n",
      "2 X 9 = 18\n",
      "2 X 10 = 20\n",
      " \n",
      "3 X 1 = 3\n",
      "3 X 2 = 6\n",
      "3 X 3 = 9\n",
      "3 X 4 = 12\n",
      "3 X 5 = 15\n",
      "3 X 6 = 18\n",
      "3 X 7 = 21\n",
      "3 X 8 = 24\n",
      "3 X 9 = 27\n",
      "3 X 10 = 30\n",
      " \n",
      "4 X 1 = 4\n",
      "4 X 2 = 8\n",
      "4 X 3 = 12\n",
      "4 X 4 = 16\n",
      "4 X 5 = 20\n",
      "4 X 6 = 24\n",
      "4 X 7 = 28\n",
      "4 X 8 = 32\n",
      "4 X 9 = 36\n",
      "4 X 10 = 40\n",
      " \n",
      "5 X 1 = 5\n",
      "5 X 2 = 10\n",
      "5 X 3 = 15\n",
      "5 X 4 = 20\n",
      "5 X 5 = 25\n",
      "5 X 6 = 30\n",
      "5 X 7 = 35\n",
      "5 X 8 = 40\n",
      "5 X 9 = 45\n",
      "5 X 10 = 50\n",
      " \n",
      "6 X 1 = 6\n",
      "6 X 2 = 12\n",
      "6 X 3 = 18\n",
      "6 X 4 = 24\n",
      "6 X 5 = 30\n",
      "6 X 6 = 36\n",
      "6 X 7 = 42\n",
      "6 X 8 = 48\n",
      "6 X 9 = 54\n",
      "6 X 10 = 60\n",
      " \n",
      "7 X 1 = 7\n",
      "7 X 2 = 14\n",
      "7 X 3 = 21\n",
      "7 X 4 = 28\n",
      "7 X 5 = 35\n",
      "7 X 6 = 42\n",
      "7 X 7 = 49\n",
      "7 X 8 = 56\n",
      "7 X 9 = 63\n",
      "7 X 10 = 70\n",
      " \n",
      "8 X 1 = 8\n",
      "8 X 2 = 16\n",
      "8 X 3 = 24\n",
      "8 X 4 = 32\n",
      "8 X 5 = 40\n",
      "8 X 6 = 48\n",
      "8 X 7 = 56\n",
      "8 X 8 = 64\n",
      "8 X 9 = 72\n",
      "8 X 10 = 80\n",
      " \n",
      "9 X 1 = 9\n",
      "9 X 2 = 18\n",
      "9 X 3 = 27\n",
      "9 X 4 = 36\n",
      "9 X 5 = 45\n",
      "9 X 6 = 54\n",
      "9 X 7 = 63\n",
      "9 X 8 = 72\n",
      "9 X 9 = 81\n",
      "9 X 10 = 90\n",
      " \n",
      "10 X 1 = 10\n",
      "10 X 2 = 20\n",
      "10 X 3 = 30\n",
      "10 X 4 = 40\n",
      "10 X 5 = 50\n",
      "10 X 6 = 60\n",
      "10 X 7 = 70\n",
      "10 X 8 = 80\n",
      "10 X 9 = 90\n",
      "10 X 10 = 100\n",
      " \n"
     ]
    }
   ],
   "source": [
    "for num1 in range(1, 11):\n",
    "    for num2 in range(1, 11):\n",
    "        print(f\"{num1} X {num2} = {num1 * num2}\")\n",
    "    print(' ')"
   ]
  },
  {
   "cell_type": "markdown",
   "metadata": {},
   "source": [
    "Exercise 10: Write a program that gets test scores from a user and then calculates and displays the average of the scores that have been enter. The output of the program should show the original scores and the average. "
   ]
  },
  {
   "cell_type": "code",
   "execution_count": 5,
   "metadata": {},
   "outputs": [
    {
     "name": "stdout",
     "output_type": "stream",
     "text": [
      "Please enter a score value.\n",
      "Enter 'x' to stop entering scores: 87\n",
      "Please enter a score value.\n",
      "Enter 'x' to stop entering scores: 98\n",
      "Please enter a score value.\n",
      "Enter 'x' to stop entering scores: 100\n",
      "Please enter a score value.\n",
      "Enter 'x' to stop entering scores: 100\n",
      "Please enter a score value.\n",
      "Enter 'x' to stop entering scores: x\n",
      "Scores you entered are: [87, 98, 100, 100]\n",
      "\n",
      "The average score is: 96.25\n"
     ]
    }
   ],
   "source": [
    "scores = []\n",
    "total_scores = 0\n",
    "err = False\n",
    "\n",
    "# Entering scores, store them in a list, and accumulating total of all scores.\n",
    "while True:\n",
    "    try:\n",
    "        scorestr = input(\"Please enter a score value.\\nEnter 'x' to stop entering scores: \")\n",
    "        if scorestr.lower() == 'x':\n",
    "            break\n",
    "        else:\n",
    "            score = int(scorestr)\n",
    "    except:\n",
    "        err = True\n",
    "    if score == 'x':\n",
    "        break\n",
    "    if (err or score < 0 or score > 100):\n",
    "        print(\"ERROR: Invalid score value\")\n",
    "        err = False\n",
    "    else:\n",
    "        scores.append(score)\n",
    "        total_scores += score\n",
    "if len(scores) > 0:\n",
    "    print (f\"Scores you entered are: {scores}\\n\")\n",
    "    print (f\"The average score is: {total_scores / len(scores)}\")\n",
    "else:\n",
    "    print (\"Sorry, you haven't entered any score\")\n",
    "        "
   ]
  },
  {
   "cell_type": "markdown",
   "metadata": {},
   "source": [
    "##### Challenge:\n",
    "Write a program that maintains a list of movies, and the user can list all the movies, add a movie to the list, or delete a movie from the list.\n",
    "\n",
    "Example\n",
    "\n",
    "###### COMMAND MENU\n",
    "```\n",
    "list - list all movies\n",
    "add - add a movie\n",
    "del - delete a movie\n",
    "exit - exit program \n",
    "```\n",
    "\n",
    "###### Command: list\n",
    "``` \n",
    " 1. Toy Story\n",
    " 2. Lion King\n",
    " 3. Frozen\n",
    " ```\n",
    "\n",
    "###### Command: add\n",
    " ```\n",
    " Name: Snow White\n",
    " Snow White was added.\n",
    " ```\n",
    "\n",
    "###### Command: del\n",
    "```\n",
    " Number: 3\n",
    " Frozen was deleted.```\n",
    "\n"
   ]
  },
  {
   "cell_type": "code",
   "execution_count": 2,
   "metadata": {},
   "outputs": [
    {
     "name": "stdout",
     "output_type": "stream",
     "text": [
      " \n",
      "Please select a command from the menu:\n",
      "\n",
      "list - list all movies\n",
      "add - add a movie\n",
      "del - delete a movie\n",
      "exit - exit program\n",
      "\n",
      "list\n",
      " \n",
      "1. Toy Story\n",
      "2. Lion King\n",
      "3. Frozen\n",
      " \n",
      "Please select a command from the menu:\n",
      "\n",
      "list - list all movies\n",
      "add - add a movie\n",
      "del - delete a movie\n",
      "exit - exit program\n",
      "\n",
      "add\n",
      "Please enter a movie to add to the list: Snow White\n",
      "\n",
      "'Snow White'  was added\n",
      " \n",
      "Please select a command from the menu:\n",
      "\n",
      "list - list all movies\n",
      "add - add a movie\n",
      "del - delete a movie\n",
      "exit - exit program\n",
      "\n",
      "del\n",
      "Please enter the number next to the movie to be deleted from the list:\n",
      "1. Toy Story\n",
      "2. Lion King\n",
      "3. Frozen\n",
      "4. Snow White\n",
      "3\n",
      "'Frozen' was deleted\n",
      " \n",
      "Please select a command from the menu:\n",
      "\n",
      "list - list all movies\n",
      "add - add a movie\n",
      "del - delete a movie\n",
      "exit - exit program\n",
      "\n",
      "list\n",
      " \n",
      "1. Toy Story\n",
      "2. Lion King\n",
      "3. Snow White\n",
      " \n",
      "Please select a command from the menu:\n",
      "\n",
      "list - list all movies\n",
      "add - add a movie\n",
      "del - delete a movie\n",
      "exit - exit program\n",
      "\n",
      "f\n",
      "Sorry, f is not a valid option. Please try again.\n",
      " \n",
      "Please select a command from the menu:\n",
      "\n",
      "list - list all movies\n",
      "add - add a movie\n",
      "del - delete a movie\n",
      "exit - exit program\n",
      "\n",
      "exit\n"
     ]
    }
   ],
   "source": [
    "def show_command_menu(command_display_list):\n",
    "    print (\"Please select a command from the menu:\\n\")\n",
    "    for command in command_display_list:\n",
    "        print(command)\n",
    "\n",
    "def show_list_submenu(movies):\n",
    "    for i in range(0, len(movies)):\n",
    "        print(f\"{i + 1}. {movies[i]}\")\n",
    "\n",
    "command_display_list = [\"list - list all movies\", \"add - add a movie\", \"del - delete a movie\", \"exit - exit program\"]\n",
    "commands = []\n",
    "movies = [\"Toy Story\", \"Lion King\", \"Frozen\"]\n",
    "# movie2add = \"Snow White\"\n",
    "movie2del = 3\n",
    "\n",
    "# get command names out of full text of displayed command\n",
    "for command in command_display_list:\n",
    "    commands.append(command.split(\" - \")[0])\n",
    "    \n",
    "# Select a menu option\n",
    "while True:\n",
    "    print (\" \")\n",
    "    show_command_menu(command_display_list)\n",
    "    choice = input(\"\\n\")\n",
    "    if (choice.lower() == 'exit'):\n",
    "        break\n",
    "    elif (choice.lower() == 'list'):\n",
    "        print (\" \")\n",
    "        show_list_submenu(movies)\n",
    "    elif (choice.lower() == 'add'):\n",
    "        movie2add = input(\"Please enter a movie to add to the list: \")\n",
    "        if len(movie2add) > 0:\n",
    "            movies.append(movie2add)\n",
    "            print (f\"\\n'{movie2add}'  was added\")\n",
    "    elif (choice.lower() == 'del'):\n",
    "        print (\"Please enter the number next to the movie to be deleted from the list:\")\n",
    "        show_list_submenu(movies)\n",
    "        try:\n",
    "            num2delete = int(input())\n",
    "            movie2delete = movies.pop(num2delete - 1)\n",
    "            print(f\"'{movie2delete}' was deleted\")\n",
    "        except:\n",
    "            print (f\"ERROR: {num2delete} is not a valid option.\")\n",
    "            \n",
    "    else:\n",
    "        print (f\"Sorry, {choice} is not a valid option. Please try again.\")\n",
    "        \n"
   ]
  },
  {
   "cell_type": "code",
   "execution_count": null,
   "metadata": {},
   "outputs": [],
   "source": []
  }
 ],
 "metadata": {
  "kernelspec": {
   "display_name": "Python 3",
   "language": "python",
   "name": "python3"
  },
  "language_info": {
   "codemirror_mode": {
    "name": "ipython",
    "version": 3
   },
   "file_extension": ".py",
   "mimetype": "text/x-python",
   "name": "python",
   "nbconvert_exporter": "python",
   "pygments_lexer": "ipython3",
   "version": "3.8.8"
  }
 },
 "nbformat": 4,
 "nbformat_minor": 4
}
